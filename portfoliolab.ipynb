{
 "cells": [
  {
   "cell_type": "code",
   "execution_count": 1,
   "id": "27c70fcb-1cdd-402e-bf48-9e93a08a60d1",
   "metadata": {},
   "outputs": [
    {
     "name": "stdout",
     "output_type": "stream",
     "text": [
      "\n",
      "Note: you may need to restart the kernel to use updated packages.\n"
     ]
    }
   ],
   "source": [
    "conda activate portfolio"
   ]
  },
  {
   "cell_type": "code",
   "execution_count": 1,
   "id": "b587d176-f243-45ba-91b0-892a9ff020b4",
   "metadata": {
    "ExecuteTime": {
     "end_time": "2024-03-17T12:19:28.550532Z",
     "start_time": "2024-03-17T12:18:59.289171Z"
    }
   },
   "outputs": [],
   "source": [
    "import pandas as pd\n",
    "import numpy as np\n",
    "import matplotlib.pyplot as plt\n",
    "import scipy.stats"
   ]
  },
  {
   "cell_type": "code",
   "execution_count": 2,
   "id": "c4836ff4-6181-4c4f-bb1a-b65896c5e5e3",
   "metadata": {
    "ExecuteTime": {
     "end_time": "2024-03-17T12:19:28.564678Z",
     "start_time": "2024-03-17T12:19:28.552531Z"
    }
   },
   "outputs": [],
   "source": [
    "import env\n",
    "\n",
    "lab_key = env.portfolio_lab"
   ]
  },
  {
   "cell_type": "code",
   "execution_count": 3,
   "id": "2a414758-2273-4400-8752-c7835ac46b2e",
   "metadata": {
    "ExecuteTime": {
     "end_time": "2024-03-17T12:19:29.529471Z",
     "start_time": "2024-03-17T12:19:28.565677Z"
    }
   },
   "outputs": [
    {
     "ename": "ModuleNotFoundError",
     "evalue": "No module named 'portfoliolab'",
     "output_type": "error",
     "traceback": [
      "\u001B[1;31m---------------------------------------------------------------------------\u001B[0m",
      "\u001B[1;31mModuleNotFoundError\u001B[0m                       Traceback (most recent call last)",
      "Cell \u001B[1;32mIn[3], line 3\u001B[0m\n\u001B[0;32m      1\u001B[0m \u001B[38;5;28;01mimport\u001B[39;00m \u001B[38;5;21;01mos\u001B[39;00m\n\u001B[0;32m      2\u001B[0m os\u001B[38;5;241m.\u001B[39menviron[\u001B[38;5;124m'\u001B[39m\u001B[38;5;124mPORTLAB_API_KEY\u001B[39m\u001B[38;5;124m'\u001B[39m] \u001B[38;5;241m=\u001B[39m \u001B[38;5;124m\"\u001B[39m\u001B[38;5;124m6df7b811cf542e4bb5520e51265c6cdb\u001B[39m\u001B[38;5;124m\"\u001B[39m\n\u001B[1;32m----> 3\u001B[0m \u001B[38;5;28;01mimport\u001B[39;00m \u001B[38;5;21;01mportfoliolab\u001B[39;00m \u001B[38;5;28;01mas\u001B[39;00m \u001B[38;5;21;01mpl\u001B[39;00m\n",
      "\u001B[1;31mModuleNotFoundError\u001B[0m: No module named 'portfoliolab'"
     ]
    }
   ],
   "source": [
    "import os\n",
    "os.environ['PORTLAB_API_KEY'] = \"6df7b811cf542e4bb5520e51265c6cdb\"\n",
    "import portfoliolab as pl"
   ]
  },
  {
   "cell_type": "code",
   "execution_count": null,
   "id": "9a5f5470-4317-4032-a774-85d732a0a88b",
   "metadata": {},
   "outputs": [],
   "source": [
    "from portfoliolab.bayesian import VanillaBlackLitterman\n",
    "\n",
    "countries = ['AU', 'CA', 'FR', 'DE', 'JP', 'UK', 'US']\n",
    "\n",
    "# Table 1 of the He-Litterman paper: Correlation matrix\n",
    "correlation = pd.DataFrame([\n",
    "    [1.000, 0.488, 0.478, 0.515, 0.439, 0.512, 0.491],\n",
    "    [0.488, 1.000, 0.664, 0.655, 0.310, 0.608, 0.779],\n",
    "    [0.478, 0.664, 1.000, 0.861, 0.355, 0.783, 0.668],\n",
    "    [0.515, 0.655, 0.861, 1.000, 0.354, 0.777, 0.653],\n",
    "    [0.439, 0.310, 0.355, 0.354, 1.000, 0.405, 0.306],\n",
    "    [0.512, 0.608, 0.783, 0.777, 0.405, 1.000, 0.652],\n",
    "    [0.491, 0.779, 0.668, 0.653, 0.306, 0.652, 1.000]\n",
    "], index=countries, columns=countries)\n",
    "\n",
    "# Table 2 of the He-Litterman paper: Volatilities\n",
    "volatilities = pd.DataFrame([0.160, 0.203, 0.248, 0.271, 0.210, 0.200, 0.187],\n",
    "                            index=countries, columns=[\"vol\"])\n",
    "covariance = volatilities.dot(volatilities.T) * correlation\n",
    "\n",
    "# Table 2 of the He-Litterman paper: Market-capitalised weights\n",
    "market_weights = pd.DataFrame([0.016, 0.022, 0.052, 0.055, 0.116, 0.124, 0.615],\n",
    "                              index=countries, columns=[\"CapWeight\"])"
   ]
  },
  {
   "cell_type": "code",
   "execution_count": null,
   "id": "11cebf8d-459b-4421-8f96-c107e1f35331",
   "metadata": {},
   "outputs": [],
   "source": []
  }
 ],
 "metadata": {
  "kernelspec": {
   "display_name": "Python 3 (ipykernel)",
   "language": "python",
   "name": "python3"
  },
  "language_info": {
   "codemirror_mode": {
    "name": "ipython",
    "version": 3
   },
   "file_extension": ".py",
   "mimetype": "text/x-python",
   "name": "python",
   "nbconvert_exporter": "python",
   "pygments_lexer": "ipython3",
   "version": "3.10.10"
  }
 },
 "nbformat": 4,
 "nbformat_minor": 5
}
