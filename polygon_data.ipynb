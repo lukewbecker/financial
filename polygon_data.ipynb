{
 "cells": [
  {
   "cell_type": "code",
   "execution_count": null,
   "id": "36df6781-4549-4d41-aa43-2359ea1aca24",
   "metadata": {},
   "outputs": [],
   "source": [
    "from polygon import RESTClient\n",
    "# import pandas as pd\n",
    "# import numpy as np"
   ]
  },
  {
   "cell_type": "code",
   "execution_count": null,
   "id": "23d71a54-8c0e-483f-b67f-73e607616ae9",
   "metadata": {},
   "outputs": [],
   "source": [
    "client = RESTClient(\"jRBwP1dFXUVGQSpYEBm73pdEZ7_C4rys\")"
   ]
  },
  {
   "cell_type": "code",
   "execution_count": null,
   "id": "9fbd144f-22df-4ec5-a4a9-314dc9a965f3",
   "metadata": {},
   "outputs": [],
   "source": [
    "from polygon import RESTClient\n",
    "from polygon.rest import models\n",
    "\n",
    "client = RESTClient('jRBwP1dFXUVGQSpYEBm73pdEZ7_C4rys')\n",
    "\n",
    "aggs = client.get_aggs(\n",
    "    \"AAPL\",\n",
    "    1,\n",
    "    \"day\",\n",
    "    \"2022-04-04\",\n",
    "    \"2022-04-04\",\n",
    ")\n",
    "print(aggs)"
   ]
  },
  {
   "cell_type": "code",
   "execution_count": null,
   "id": "77aa67ad-739c-418a-9a6a-1c31dcf740ec",
   "metadata": {},
   "outputs": [],
   "source": []
  },
  {
   "cell_type": "code",
   "execution_count": 1,
   "id": "27381387-925e-4ce5-b193-c1a0f9835bf1",
   "metadata": {},
   "outputs": [
    {
     "ename": "ModuleNotFoundError",
     "evalue": "No module named 'local_settings'",
     "output_type": "error",
     "traceback": [
      "\u001b[1;31m---------------------------------------------------------------------------\u001b[0m",
      "\u001b[1;31mModuleNotFoundError\u001b[0m                       Traceback (most recent call last)",
      "Cell \u001b[1;32mIn[1], line 2\u001b[0m\n\u001b[0;32m      1\u001b[0m \u001b[38;5;28;01mfrom\u001b[39;00m \u001b[38;5;21;01mpolygon\u001b[39;00m \u001b[38;5;28;01mimport\u001b[39;00m RESTClient\n\u001b[1;32m----> 2\u001b[0m \u001b[38;5;28;01mfrom\u001b[39;00m \u001b[38;5;21;01mlocal_settings\u001b[39;00m \u001b[38;5;28;01mimport\u001b[39;00m polygon \u001b[38;5;28;01mas\u001b[39;00m settings\n",
      "\u001b[1;31mModuleNotFoundError\u001b[0m: No module named 'local_settings'"
     ]
    }
   ],
   "source": [
    "from polygon import RESTClient\n",
    "from local_settings import polygon as settings"
   ]
  },
  {
   "cell_type": "code",
   "execution_count": null,
   "id": "4a141d73-3d9f-43da-98d4-563ab0fda1c6",
   "metadata": {},
   "outputs": [],
   "source": []
  }
 ],
 "metadata": {
  "kernelspec": {
   "display_name": "Python 3 (ipykernel)",
   "language": "python",
   "name": "python3"
  },
  "language_info": {
   "codemirror_mode": {
    "name": "ipython",
    "version": 3
   },
   "file_extension": ".py",
   "mimetype": "text/x-python",
   "name": "python",
   "nbconvert_exporter": "python",
   "pygments_lexer": "ipython3",
   "version": "3.9.16"
  }
 },
 "nbformat": 4,
 "nbformat_minor": 5
}
