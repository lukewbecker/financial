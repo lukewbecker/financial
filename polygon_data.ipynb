{
 "cells": [
  {
   "cell_type": "code",
   "execution_count": 3,
   "id": "36df6781-4549-4d41-aa43-2359ea1aca24",
   "metadata": {
    "ExecuteTime": {
     "end_time": "2024-03-17T12:20:13.905398Z",
     "start_time": "2024-03-17T12:20:13.902153Z"
    }
   },
   "outputs": [],
   "source": [
    "from polygon import RESTClient\n",
    "from polygon.rest import models\n",
    "# import pandas as pd\n",
    "# import numpy as np"
   ]
  },
  {
   "cell_type": "code",
   "outputs": [],
   "source": [
    "import env\n",
    "\n",
    "poly_key = env.polygon_key"
   ],
   "metadata": {
    "collapsed": false,
    "ExecuteTime": {
     "end_time": "2024-03-17T12:27:39.983839Z",
     "start_time": "2024-03-17T12:27:39.980657Z"
    }
   },
   "id": "af55fd52254626ff",
   "execution_count": 16
  },
  {
   "cell_type": "code",
   "execution_count": 17,
   "id": "23d71a54-8c0e-483f-b67f-73e607616ae9",
   "metadata": {
    "ExecuteTime": {
     "end_time": "2024-03-17T12:27:42.832252Z",
     "start_time": "2024-03-17T12:27:42.828564Z"
    }
   },
   "outputs": [],
   "source": [
    "client = RESTClient(poly_key)"
   ]
  },
  {
   "cell_type": "code",
   "execution_count": 9,
   "id": "9fbd144f-22df-4ec5-a4a9-314dc9a965f3",
   "metadata": {
    "ExecuteTime": {
     "end_time": "2024-03-17T12:22:23.357228Z",
     "start_time": "2024-03-17T12:22:22.644795Z"
    }
   },
   "outputs": [
    {
     "name": "stdout",
     "output_type": "stream",
     "text": [
      "[Agg(open=174.57, high=178.49, low=174.44, close=178.44, volume=76545983.0, vwap=177.4855, timestamp=1649044800000, transactions=630374, otc=None)]\n"
     ]
    }
   ],
   "source": [
    "# from polygon import RESTClient\n",
    "# from polygon.rest import models\n",
    "\n",
    "# client = RESTClient(\"test)\n",
    "\n",
    "aggs = client.get_aggs(\n",
    "    \"AAPL\",\n",
    "    1,\n",
    "    \"day\",\n",
    "    \"2022-04-04\",\n",
    "    \"2022-04-04\",\n",
    ")\n",
    "print(aggs)"
   ]
  },
  {
   "cell_type": "code",
   "execution_count": 12,
   "id": "77aa67ad-739c-418a-9a6a-1c31dcf740ec",
   "metadata": {
    "ExecuteTime": {
     "end_time": "2024-03-17T12:25:22.440746Z",
     "start_time": "2024-03-17T12:25:20.024585Z"
    }
   },
   "outputs": [
    {
     "name": "stderr",
     "output_type": "stream",
     "text": [
      "IOPub data rate exceeded.\n",
      "The notebook server will temporarily stop sending output\n",
      "to the client in order to avoid crashing it.\n",
      "To change this limit, set the config variable\n",
      "`--NotebookApp.iopub_data_rate_limit`.\n",
      "\n",
      "Current values:\n",
      "NotebookApp.iopub_data_rate_limit=1000000.0 (bytes/sec)\n",
      "NotebookApp.rate_limit_window=3.0 (secs)\n",
      "\n"
     ]
    },
    {
     "ename": "BadResponse",
     "evalue": "{\"status\":\"NOT_AUTHORIZED\",\"request_id\":\"0c23d397acec7f236f5372ec5bb61a9b\",\"message\":\"You are not entitled to this data. Please upgrade your plan at https://polygon.io/pricing\"}",
     "output_type": "error",
     "traceback": [
      "\u001B[1;31m---------------------------------------------------------------------------\u001B[0m",
      "\u001B[1;31mBadResponse\u001B[0m                               Traceback (most recent call last)",
      "Cell \u001B[1;32mIn[12], line 11\u001B[0m\n\u001B[0;32m      8\u001B[0m \u001B[38;5;28mprint\u001B[39m(aggs)\n\u001B[0;32m     10\u001B[0m \u001B[38;5;66;03m# Get Last Trade\u001B[39;00m\n\u001B[1;32m---> 11\u001B[0m trade \u001B[38;5;241m=\u001B[39m client\u001B[38;5;241m.\u001B[39mget_last_trade(ticker\u001B[38;5;241m=\u001B[39mticker)\n\u001B[0;32m     12\u001B[0m \u001B[38;5;28mprint\u001B[39m(trade)\n\u001B[0;32m     14\u001B[0m \u001B[38;5;66;03m# List Trades\u001B[39;00m\n",
      "File \u001B[1;32m~\\anaconda3\\envs\\finance\\Lib\\site-packages\\polygon\\rest\\trades.py:69\u001B[0m, in \u001B[0;36mTradesClient.get_last_trade\u001B[1;34m(self, ticker, params, raw, options)\u001B[0m\n\u001B[0;32m     59\u001B[0m \u001B[38;5;250m\u001B[39m\u001B[38;5;124;03m\"\"\"\u001B[39;00m\n\u001B[0;32m     60\u001B[0m \u001B[38;5;124;03mGet the most recent trade for a ticker.\u001B[39;00m\n\u001B[0;32m     61\u001B[0m \n\u001B[1;32m   (...)\u001B[0m\n\u001B[0;32m     65\u001B[0m \u001B[38;5;124;03m:return: Last trade\u001B[39;00m\n\u001B[0;32m     66\u001B[0m \u001B[38;5;124;03m\"\"\"\u001B[39;00m\n\u001B[0;32m     67\u001B[0m url \u001B[38;5;241m=\u001B[39m \u001B[38;5;124mf\u001B[39m\u001B[38;5;124m\"\u001B[39m\u001B[38;5;124m/v2/last/trade/\u001B[39m\u001B[38;5;132;01m{\u001B[39;00mticker\u001B[38;5;132;01m}\u001B[39;00m\u001B[38;5;124m\"\u001B[39m\n\u001B[1;32m---> 69\u001B[0m \u001B[38;5;28;01mreturn\u001B[39;00m \u001B[38;5;28mself\u001B[39m\u001B[38;5;241m.\u001B[39m_get(\n\u001B[0;32m     70\u001B[0m     path\u001B[38;5;241m=\u001B[39murl,\n\u001B[0;32m     71\u001B[0m     params\u001B[38;5;241m=\u001B[39m\u001B[38;5;28mself\u001B[39m\u001B[38;5;241m.\u001B[39m_get_params(\u001B[38;5;28mself\u001B[39m\u001B[38;5;241m.\u001B[39mget_last_trade, \u001B[38;5;28mlocals\u001B[39m()),\n\u001B[0;32m     72\u001B[0m     result_key\u001B[38;5;241m=\u001B[39m\u001B[38;5;124m\"\u001B[39m\u001B[38;5;124mresults\u001B[39m\u001B[38;5;124m\"\u001B[39m,\n\u001B[0;32m     73\u001B[0m     deserializer\u001B[38;5;241m=\u001B[39mLastTrade\u001B[38;5;241m.\u001B[39mfrom_dict,\n\u001B[0;32m     74\u001B[0m     raw\u001B[38;5;241m=\u001B[39mraw,\n\u001B[0;32m     75\u001B[0m     options\u001B[38;5;241m=\u001B[39moptions,\n\u001B[0;32m     76\u001B[0m )\n",
      "File \u001B[1;32m~\\anaconda3\\envs\\finance\\Lib\\site-packages\\polygon\\rest\\base.py:129\u001B[0m, in \u001B[0;36mBaseClient._get\u001B[1;34m(self, path, params, result_key, deserializer, raw, options)\u001B[0m\n\u001B[0;32m    126\u001B[0m     \u001B[38;5;28mprint\u001B[39m(\u001B[38;5;124mf\u001B[39m\u001B[38;5;124m\"\u001B[39m\u001B[38;5;124mResponse Headers: \u001B[39m\u001B[38;5;132;01m{\u001B[39;00mresp_headers_dict\u001B[38;5;132;01m}\u001B[39;00m\u001B[38;5;124m\"\u001B[39m)\n\u001B[0;32m    128\u001B[0m \u001B[38;5;28;01mif\u001B[39;00m resp\u001B[38;5;241m.\u001B[39mstatus \u001B[38;5;241m!=\u001B[39m \u001B[38;5;241m200\u001B[39m:\n\u001B[1;32m--> 129\u001B[0m     \u001B[38;5;28;01mraise\u001B[39;00m BadResponse(resp\u001B[38;5;241m.\u001B[39mdata\u001B[38;5;241m.\u001B[39mdecode(\u001B[38;5;124m\"\u001B[39m\u001B[38;5;124mutf-8\u001B[39m\u001B[38;5;124m\"\u001B[39m))\n\u001B[0;32m    131\u001B[0m \u001B[38;5;28;01mif\u001B[39;00m raw:\n\u001B[0;32m    132\u001B[0m     \u001B[38;5;28;01mreturn\u001B[39;00m resp\n",
      "\u001B[1;31mBadResponse\u001B[0m: {\"status\":\"NOT_AUTHORIZED\",\"request_id\":\"0c23d397acec7f236f5372ec5bb61a9b\",\"message\":\"You are not entitled to this data. Please upgrade your plan at https://polygon.io/pricing\"}"
     ]
    }
   ],
   "source": [
    "ticker = \"AAPL\"\n",
    "\n",
    "# List Aggregates (Bars)\n",
    "aggs = []\n",
    "for a in client.list_aggs(ticker=ticker, multiplier=1, timespan=\"minute\", from_=\"2023-01-01\", to=\"2023-06-13\", limit=50000):\n",
    "    aggs.append(a)\n",
    "\n",
    "print(aggs)\n",
    "\n",
    "# Get Last Trade\n",
    "trade = client.get_last_trade(ticker=ticker)\n",
    "print(trade)\n",
    "\n",
    "# List Trades\n",
    "trades = client.list_trades(ticker=ticker, timestamp=\"2022-01-04\")\n",
    "for trade in trades:\n",
    "    print(trade)\n",
    "\n",
    "# Get Last Quote\n",
    "quote = client.get_last_quote(ticker=ticker)\n",
    "print(quote)\n",
    "\n",
    "# List Quotes\n",
    "quotes = client.list_quotes(ticker=ticker, timestamp=\"2022-01-04\")\n",
    "for quote in quotes:\n",
    "    print(quote)\n"
   ]
  },
  {
   "cell_type": "code",
   "outputs": [],
   "source": [],
   "metadata": {
    "collapsed": false
   },
   "id": "fbe549fc965cc53"
  }
 ],
 "metadata": {
  "kernelspec": {
   "display_name": "Python 3 (ipykernel)",
   "language": "python",
   "name": "python3"
  },
  "language_info": {
   "codemirror_mode": {
    "name": "ipython",
    "version": 3
   },
   "file_extension": ".py",
   "mimetype": "text/x-python",
   "name": "python",
   "nbconvert_exporter": "python",
   "pygments_lexer": "ipython3",
   "version": "3.9.16"
  }
 },
 "nbformat": 4,
 "nbformat_minor": 5
}
